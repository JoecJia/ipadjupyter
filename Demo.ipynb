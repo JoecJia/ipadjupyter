import matplotlib.pyplot as plt
import numpy as np
import matplotlib as mpl
from matplotlib.font_manager import FontProperties

font = FontProperties(fname = "TimesNewRoman.ttf",size = 14)


x1 = [1, 1, 1]
y1 = [111.398, 103.984, 108.953]
x2 = [2, 2, 2]
y2 = [86.3906, 89.2734, 89]
x3 = [3, 3, 3]
y3 = [75.0313, 73.4688, 74.2813]


xdata = [x1, x2, x3]
ydata = [y1, y2, y3]


for i in range(len(ydata)):
    for j,d in enumerate(ydata[i]):
        ydata[i][j] = d / (np.pi * 0.025 * 0.025) * 1e-3


#colors = [plt.cm.tab10(i / 7.0) for i in range(7)] 
#markers = ["o", "^", "s", "x", "+", "p", "*"]
for i in range(len(ydata)):
    plt.scatter(xdata[i], ydata[i], s = 20, marker = "o")

xaverage = [1, 2, 3]
yaverage = []
for i in range(len(ydata)):
    yaverage.append(sum(ydata[i]) / len(ydata[i]))
plt.plot(xaverage, yaverage, color = 'blue', linewidth = 2.0,
         linestyle = '-')


plt.title("Peak strength of specimens with different Height",
          FontProperties = font)
plt.xlabel("Different types of height/mm", FontProperties = font)
plt.ylabel("Peak Strength/MPa", FontProperties = font)
#plt.legend("best")
plt.xticks(FontProperties = font, size = 14)
index_ls = ["100","20+60+20","25+50+25"]
plt.xticks(range(1,4,1),index_ls,rotation = 60)
plt.yticks(FontProperties = font, size = 14)
plt.show()
